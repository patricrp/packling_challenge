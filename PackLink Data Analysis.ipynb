{
 "cells": [
  {
   "cell_type": "markdown",
   "metadata": {},
   "source": [
    "## Cleaning and working with raw data"
   ]
  },
  {
   "cell_type": "code",
   "execution_count": 72,
   "metadata": {},
   "outputs": [],
   "source": [
    "import pandas as pd"
   ]
  },
  {
   "cell_type": "code",
   "execution_count": 70,
   "metadata": {},
   "outputs": [],
   "source": [
    "df_clients = pd.read_csv('input/clients - clients.csv')"
   ]
  },
  {
   "cell_type": "code",
   "execution_count": 71,
   "metadata": {},
   "outputs": [
    {
     "data": {
      "text/html": [
       "<div>\n",
       "<style scoped>\n",
       "    .dataframe tbody tr th:only-of-type {\n",
       "        vertical-align: middle;\n",
       "    }\n",
       "\n",
       "    .dataframe tbody tr th {\n",
       "        vertical-align: top;\n",
       "    }\n",
       "\n",
       "    .dataframe thead th {\n",
       "        text-align: right;\n",
       "    }\n",
       "</style>\n",
       "<table border=\"1\" class=\"dataframe\">\n",
       "  <thead>\n",
       "    <tr style=\"text-align: right;\">\n",
       "      <th></th>\n",
       "      <th>id</th>\n",
       "      <th>estimated_deliveries_volumes</th>\n",
       "      <th>created_at</th>\n",
       "    </tr>\n",
       "  </thead>\n",
       "  <tbody>\n",
       "    <tr>\n",
       "      <th>0</th>\n",
       "      <td>000e8d9b-aaa6-43f8-ab58-2f9b1a8248e9</td>\n",
       "      <td>1 - 10</td>\n",
       "      <td>11/12/2019</td>\n",
       "    </tr>\n",
       "    <tr>\n",
       "      <th>1</th>\n",
       "      <td>000f1a2b-5e91-417f-bdda-8a4a5ae2793d</td>\n",
       "      <td>11 - 50</td>\n",
       "      <td>23/05/2020</td>\n",
       "    </tr>\n",
       "    <tr>\n",
       "      <th>2</th>\n",
       "      <td>000fc96a-f5e5-4c67-af81-c25ff3f815ed</td>\n",
       "      <td>1 - 10</td>\n",
       "      <td>07/05/2020</td>\n",
       "    </tr>\n",
       "    <tr>\n",
       "      <th>3</th>\n",
       "      <td>0012edb0-9edc-4894-b069-48f84cfa7b83</td>\n",
       "      <td>11 - 50</td>\n",
       "      <td>05/10/2018</td>\n",
       "    </tr>\n",
       "    <tr>\n",
       "      <th>4</th>\n",
       "      <td>0013c4b6-9fef-4aed-a7c4-4c0c916be02f</td>\n",
       "      <td>1 - 10</td>\n",
       "      <td>08/02/2017</td>\n",
       "    </tr>\n",
       "  </tbody>\n",
       "</table>\n",
       "</div>"
      ],
      "text/plain": [
       "                                     id estimated_deliveries_volumes  \\\n",
       "0  000e8d9b-aaa6-43f8-ab58-2f9b1a8248e9                       1 - 10   \n",
       "1  000f1a2b-5e91-417f-bdda-8a4a5ae2793d                      11 - 50   \n",
       "2  000fc96a-f5e5-4c67-af81-c25ff3f815ed                       1 - 10   \n",
       "3  0012edb0-9edc-4894-b069-48f84cfa7b83                      11 - 50   \n",
       "4  0013c4b6-9fef-4aed-a7c4-4c0c916be02f                       1 - 10   \n",
       "\n",
       "   created_at  \n",
       "0  11/12/2019  \n",
       "1  23/05/2020  \n",
       "2  07/05/2020  \n",
       "3  05/10/2018  \n",
       "4  08/02/2017  "
      ]
     },
     "execution_count": 71,
     "metadata": {},
     "output_type": "execute_result"
    }
   ],
   "source": [
    "df_clients.head()"
   ]
  },
  {
   "cell_type": "code",
   "execution_count": 81,
   "metadata": {},
   "outputs": [],
   "source": [
    "df_clients.to_csv('output/clients_new.csv')"
   ]
  },
  {
   "cell_type": "code",
   "execution_count": 87,
   "metadata": {},
   "outputs": [
    {
     "name": "stderr",
     "output_type": "stream",
     "text": [
      "b'Skipping line 378321: expected 1 fields, saw 2\\n'\n"
     ]
    }
   ],
   "source": [
    "df_ship = pd.read_csv('input/shipments_corregido.csv', error_bad_lines=False)"
   ]
  },
  {
   "cell_type": "code",
   "execution_count": 88,
   "metadata": {},
   "outputs": [
    {
     "data": {
      "text/html": [
       "<div>\n",
       "<style scoped>\n",
       "    .dataframe tbody tr th:only-of-type {\n",
       "        vertical-align: middle;\n",
       "    }\n",
       "\n",
       "    .dataframe tbody tr th {\n",
       "        vertical-align: top;\n",
       "    }\n",
       "\n",
       "    .dataframe thead th {\n",
       "        text-align: right;\n",
       "    }\n",
       "</style>\n",
       "<table border=\"1\" class=\"dataframe\">\n",
       "  <thead>\n",
       "    <tr style=\"text-align: right;\">\n",
       "      <th></th>\n",
       "      <th>shipment_reference;client_id;product;country;order_date;invoiced_weight;net_revenue;net_cost;shipment_source</th>\n",
       "    </tr>\n",
       "  </thead>\n",
       "  <tbody>\n",
       "    <tr>\n",
       "      <th>0</th>\n",
       "      <td>ES2020PRO0001856116;ccfcf291-1584-46c2-bf5b-29...</td>\n",
       "    </tr>\n",
       "    <tr>\n",
       "      <th>1</th>\n",
       "      <td>ES2020PRO0001856151;ccfcf291-1584-46c2-bf5b-29...</td>\n",
       "    </tr>\n",
       "    <tr>\n",
       "      <th>2</th>\n",
       "      <td>ES2020PRO0001856153;51bff652-81dd-4247-adf8-e4...</td>\n",
       "    </tr>\n",
       "    <tr>\n",
       "      <th>3</th>\n",
       "      <td>ES2020PRO0001856157;f0f2a6de-342c-473c-a030-c9...</td>\n",
       "    </tr>\n",
       "    <tr>\n",
       "      <th>4</th>\n",
       "      <td>ES2020PRO0001856156;34b5e2ab-7207-479c-b69a-30...</td>\n",
       "    </tr>\n",
       "  </tbody>\n",
       "</table>\n",
       "</div>"
      ],
      "text/plain": [
       "  shipment_reference;client_id;product;country;order_date;invoiced_weight;net_revenue;net_cost;shipment_source\n",
       "0  ES2020PRO0001856116;ccfcf291-1584-46c2-bf5b-29...                                                          \n",
       "1  ES2020PRO0001856151;ccfcf291-1584-46c2-bf5b-29...                                                          \n",
       "2  ES2020PRO0001856153;51bff652-81dd-4247-adf8-e4...                                                          \n",
       "3  ES2020PRO0001856157;f0f2a6de-342c-473c-a030-c9...                                                          \n",
       "4  ES2020PRO0001856156;34b5e2ab-7207-479c-b69a-30...                                                          "
      ]
     },
     "execution_count": 88,
     "metadata": {},
     "output_type": "execute_result"
    }
   ],
   "source": [
    "df_ship.head()"
   ]
  },
  {
   "cell_type": "code",
   "execution_count": 89,
   "metadata": {},
   "outputs": [],
   "source": [
    "df = pd.DataFrame(df_ship['shipment_reference;client_id;product;country;order_date;invoiced_weight;net_revenue;net_cost;shipment_source'].str.split(';'))"
   ]
  },
  {
   "cell_type": "code",
   "execution_count": 90,
   "metadata": {},
   "outputs": [
    {
     "data": {
      "text/html": [
       "<div>\n",
       "<style scoped>\n",
       "    .dataframe tbody tr th:only-of-type {\n",
       "        vertical-align: middle;\n",
       "    }\n",
       "\n",
       "    .dataframe tbody tr th {\n",
       "        vertical-align: top;\n",
       "    }\n",
       "\n",
       "    .dataframe thead th {\n",
       "        text-align: right;\n",
       "    }\n",
       "</style>\n",
       "<table border=\"1\" class=\"dataframe\">\n",
       "  <thead>\n",
       "    <tr style=\"text-align: right;\">\n",
       "      <th></th>\n",
       "      <th>shipment_reference;client_id;product;country;order_date;invoiced_weight;net_revenue;net_cost;shipment_source</th>\n",
       "    </tr>\n",
       "  </thead>\n",
       "  <tbody>\n",
       "    <tr>\n",
       "      <th>0</th>\n",
       "      <td>[ES2020PRO0001856116, ccfcf291-1584-46c2-bf5b-...</td>\n",
       "    </tr>\n",
       "    <tr>\n",
       "      <th>1</th>\n",
       "      <td>[ES2020PRO0001856151, ccfcf291-1584-46c2-bf5b-...</td>\n",
       "    </tr>\n",
       "    <tr>\n",
       "      <th>2</th>\n",
       "      <td>[ES2020PRO0001856153, 51bff652-81dd-4247-adf8-...</td>\n",
       "    </tr>\n",
       "    <tr>\n",
       "      <th>3</th>\n",
       "      <td>[ES2020PRO0001856157, f0f2a6de-342c-473c-a030-...</td>\n",
       "    </tr>\n",
       "    <tr>\n",
       "      <th>4</th>\n",
       "      <td>[ES2020PRO0001856156, 34b5e2ab-7207-479c-b69a-...</td>\n",
       "    </tr>\n",
       "  </tbody>\n",
       "</table>\n",
       "</div>"
      ],
      "text/plain": [
       "  shipment_reference;client_id;product;country;order_date;invoiced_weight;net_revenue;net_cost;shipment_source\n",
       "0  [ES2020PRO0001856116, ccfcf291-1584-46c2-bf5b-...                                                          \n",
       "1  [ES2020PRO0001856151, ccfcf291-1584-46c2-bf5b-...                                                          \n",
       "2  [ES2020PRO0001856153, 51bff652-81dd-4247-adf8-...                                                          \n",
       "3  [ES2020PRO0001856157, f0f2a6de-342c-473c-a030-...                                                          \n",
       "4  [ES2020PRO0001856156, 34b5e2ab-7207-479c-b69a-...                                                          "
      ]
     },
     "execution_count": 90,
     "metadata": {},
     "output_type": "execute_result"
    }
   ],
   "source": [
    "df.head()"
   ]
  },
  {
   "cell_type": "code",
   "execution_count": 97,
   "metadata": {},
   "outputs": [],
   "source": [
    "for index, row in df.iterrows():\n",
    "    print(index, row['shipment_reference;client_id;product;country;order_date;invoiced_weight;net_revenue;net_cost;shipment_source'])"
   ]
  },
  {
   "cell_type": "code",
   "execution_count": null,
   "metadata": {},
   "outputs": [],
   "source": []
  },
  {
   "cell_type": "code",
   "execution_count": null,
   "metadata": {},
   "outputs": [],
   "source": []
  }
 ],
 "metadata": {
  "kernelspec": {
   "display_name": "Python3.8",
   "language": "python",
   "name": "python3.8"
  },
  "language_info": {
   "codemirror_mode": {
    "name": "ipython",
    "version": 3
   },
   "file_extension": ".py",
   "mimetype": "text/x-python",
   "name": "python",
   "nbconvert_exporter": "python",
   "pygments_lexer": "ipython3",
   "version": "3.8.0"
  }
 },
 "nbformat": 4,
 "nbformat_minor": 4
}
